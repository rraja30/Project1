{
 "cells": [
  {
   "cell_type": "code",
   "execution_count": null,
   "id": "a20e4049",
   "metadata": {},
   "outputs": [],
   "source": [
    "# Downloading the Dataset from Kaggle by using opendatasets api\n",
    "#!pip install opendatasets --upgrade --quiet\n",
    "#import opendatasets as od"
   ]
  },
  {
   "cell_type": "code",
   "execution_count": null,
   "id": "509bb3ec",
   "metadata": {},
   "outputs": [],
   "source": [
    "#download_url = 'https://www.kaggle.com/datasets/sobhanmoosavi/us-accidents'\n",
    "#od.download(download_url)"
   ]
  },
  {
   "cell_type": "code",
   "execution_count": 36,
   "id": "9e590b85",
   "metadata": {},
   "outputs": [],
   "source": [
    "# Import dependencies\n",
    "import pandas as pd\n",
    "import numpy as np \n",
    "import matplotlib.pyplot as plt\n",
    "from scipy import stats"
   ]
  },
  {
   "cell_type": "code",
   "execution_count": 2,
   "id": "b4a10682",
   "metadata": {},
   "outputs": [],
   "source": [
    "df = pd.read_csv('us-accidents/US_Accidents_Dec21_updated.csv')"
   ]
  },
  {
   "cell_type": "code",
   "execution_count": 3,
   "id": "e97a190d",
   "metadata": {},
   "outputs": [
    {
     "data": {
      "text/plain": [
       "Index(['ID', 'Severity', 'Start_Time', 'End_Time', 'Start_Lat', 'Start_Lng',\n",
       "       'End_Lat', 'End_Lng', 'Distance(mi)', 'Description', 'Number', 'Street',\n",
       "       'Side', 'City', 'County', 'State', 'Zipcode', 'Country', 'Timezone',\n",
       "       'Airport_Code', 'Weather_Timestamp', 'Temperature(F)', 'Wind_Chill(F)',\n",
       "       'Humidity(%)', 'Pressure(in)', 'Visibility(mi)', 'Wind_Direction',\n",
       "       'Wind_Speed(mph)', 'Precipitation(in)', 'Weather_Condition', 'Amenity',\n",
       "       'Bump', 'Crossing', 'Give_Way', 'Junction', 'No_Exit', 'Railway',\n",
       "       'Roundabout', 'Station', 'Stop', 'Traffic_Calming', 'Traffic_Signal',\n",
       "       'Turning_Loop', 'Sunrise_Sunset', 'Civil_Twilight', 'Nautical_Twilight',\n",
       "       'Astronomical_Twilight'],\n",
       "      dtype='object')"
      ]
     },
     "execution_count": 3,
     "metadata": {},
     "output_type": "execute_result"
    }
   ],
   "source": [
    "df.columns"
   ]
  },
  {
   "cell_type": "code",
   "execution_count": 4,
   "id": "ce9b3445",
   "metadata": {},
   "outputs": [],
   "source": [
    "# splitting Start_Time varible by date and time, \n",
    "df[['Date','Time']] = df['Start_Time'].str.split(expand=True)"
   ]
  },
  {
   "cell_type": "code",
   "execution_count": 5,
   "id": "6cce7703",
   "metadata": {},
   "outputs": [
    {
     "data": {
      "text/html": [
       "<div>\n",
       "<style scoped>\n",
       "    .dataframe tbody tr th:only-of-type {\n",
       "        vertical-align: middle;\n",
       "    }\n",
       "\n",
       "    .dataframe tbody tr th {\n",
       "        vertical-align: top;\n",
       "    }\n",
       "\n",
       "    .dataframe thead th {\n",
       "        text-align: right;\n",
       "    }\n",
       "</style>\n",
       "<table border=\"1\" class=\"dataframe\">\n",
       "  <thead>\n",
       "    <tr style=\"text-align: right;\">\n",
       "      <th></th>\n",
       "      <th>ID</th>\n",
       "      <th>Severity</th>\n",
       "      <th>Start_Time</th>\n",
       "      <th>End_Time</th>\n",
       "      <th>Start_Lat</th>\n",
       "      <th>Start_Lng</th>\n",
       "      <th>End_Lat</th>\n",
       "      <th>End_Lng</th>\n",
       "      <th>Distance(mi)</th>\n",
       "      <th>Description</th>\n",
       "      <th>...</th>\n",
       "      <th>Turning_Loop</th>\n",
       "      <th>Sunrise_Sunset</th>\n",
       "      <th>Civil_Twilight</th>\n",
       "      <th>Nautical_Twilight</th>\n",
       "      <th>Astronomical_Twilight</th>\n",
       "      <th>Date</th>\n",
       "      <th>Time</th>\n",
       "      <th>Year</th>\n",
       "      <th>Month</th>\n",
       "      <th>Day</th>\n",
       "    </tr>\n",
       "  </thead>\n",
       "  <tbody>\n",
       "    <tr>\n",
       "      <th>0</th>\n",
       "      <td>A-1</td>\n",
       "      <td>3</td>\n",
       "      <td>2016-02-08 00:37:08</td>\n",
       "      <td>2016-02-08 06:37:08</td>\n",
       "      <td>40.108910</td>\n",
       "      <td>-83.092860</td>\n",
       "      <td>40.112060</td>\n",
       "      <td>-83.031870</td>\n",
       "      <td>3.230</td>\n",
       "      <td>Between Sawmill Rd/Exit 20 and OH-315/Olentang...</td>\n",
       "      <td>...</td>\n",
       "      <td>False</td>\n",
       "      <td>Night</td>\n",
       "      <td>Night</td>\n",
       "      <td>Night</td>\n",
       "      <td>Night</td>\n",
       "      <td>2016-02-08</td>\n",
       "      <td>00:37:08</td>\n",
       "      <td>2016</td>\n",
       "      <td>02</td>\n",
       "      <td>08</td>\n",
       "    </tr>\n",
       "    <tr>\n",
       "      <th>1</th>\n",
       "      <td>A-2</td>\n",
       "      <td>2</td>\n",
       "      <td>2016-02-08 05:56:20</td>\n",
       "      <td>2016-02-08 11:56:20</td>\n",
       "      <td>39.865420</td>\n",
       "      <td>-84.062800</td>\n",
       "      <td>39.865010</td>\n",
       "      <td>-84.048730</td>\n",
       "      <td>0.747</td>\n",
       "      <td>At OH-4/OH-235/Exit 41 - Accident.</td>\n",
       "      <td>...</td>\n",
       "      <td>False</td>\n",
       "      <td>Night</td>\n",
       "      <td>Night</td>\n",
       "      <td>Night</td>\n",
       "      <td>Night</td>\n",
       "      <td>2016-02-08</td>\n",
       "      <td>05:56:20</td>\n",
       "      <td>2016</td>\n",
       "      <td>02</td>\n",
       "      <td>08</td>\n",
       "    </tr>\n",
       "    <tr>\n",
       "      <th>2</th>\n",
       "      <td>A-3</td>\n",
       "      <td>2</td>\n",
       "      <td>2016-02-08 06:15:39</td>\n",
       "      <td>2016-02-08 12:15:39</td>\n",
       "      <td>39.102660</td>\n",
       "      <td>-84.524680</td>\n",
       "      <td>39.102090</td>\n",
       "      <td>-84.523960</td>\n",
       "      <td>0.055</td>\n",
       "      <td>At I-71/US-50/Exit 1 - Accident.</td>\n",
       "      <td>...</td>\n",
       "      <td>False</td>\n",
       "      <td>Night</td>\n",
       "      <td>Night</td>\n",
       "      <td>Night</td>\n",
       "      <td>Day</td>\n",
       "      <td>2016-02-08</td>\n",
       "      <td>06:15:39</td>\n",
       "      <td>2016</td>\n",
       "      <td>02</td>\n",
       "      <td>08</td>\n",
       "    </tr>\n",
       "    <tr>\n",
       "      <th>3</th>\n",
       "      <td>A-4</td>\n",
       "      <td>2</td>\n",
       "      <td>2016-02-08 06:51:45</td>\n",
       "      <td>2016-02-08 12:51:45</td>\n",
       "      <td>41.062130</td>\n",
       "      <td>-81.537840</td>\n",
       "      <td>41.062170</td>\n",
       "      <td>-81.535470</td>\n",
       "      <td>0.123</td>\n",
       "      <td>At Dart Ave/Exit 21 - Accident.</td>\n",
       "      <td>...</td>\n",
       "      <td>False</td>\n",
       "      <td>Night</td>\n",
       "      <td>Night</td>\n",
       "      <td>Day</td>\n",
       "      <td>Day</td>\n",
       "      <td>2016-02-08</td>\n",
       "      <td>06:51:45</td>\n",
       "      <td>2016</td>\n",
       "      <td>02</td>\n",
       "      <td>08</td>\n",
       "    </tr>\n",
       "    <tr>\n",
       "      <th>4</th>\n",
       "      <td>A-5</td>\n",
       "      <td>3</td>\n",
       "      <td>2016-02-08 07:53:43</td>\n",
       "      <td>2016-02-08 13:53:43</td>\n",
       "      <td>39.172393</td>\n",
       "      <td>-84.492792</td>\n",
       "      <td>39.170476</td>\n",
       "      <td>-84.501798</td>\n",
       "      <td>0.500</td>\n",
       "      <td>At Mitchell Ave/Exit 6 - Accident.</td>\n",
       "      <td>...</td>\n",
       "      <td>False</td>\n",
       "      <td>Day</td>\n",
       "      <td>Day</td>\n",
       "      <td>Day</td>\n",
       "      <td>Day</td>\n",
       "      <td>2016-02-08</td>\n",
       "      <td>07:53:43</td>\n",
       "      <td>2016</td>\n",
       "      <td>02</td>\n",
       "      <td>08</td>\n",
       "    </tr>\n",
       "    <tr>\n",
       "      <th>...</th>\n",
       "      <td>...</td>\n",
       "      <td>...</td>\n",
       "      <td>...</td>\n",
       "      <td>...</td>\n",
       "      <td>...</td>\n",
       "      <td>...</td>\n",
       "      <td>...</td>\n",
       "      <td>...</td>\n",
       "      <td>...</td>\n",
       "      <td>...</td>\n",
       "      <td>...</td>\n",
       "      <td>...</td>\n",
       "      <td>...</td>\n",
       "      <td>...</td>\n",
       "      <td>...</td>\n",
       "      <td>...</td>\n",
       "      <td>...</td>\n",
       "      <td>...</td>\n",
       "      <td>...</td>\n",
       "      <td>...</td>\n",
       "      <td>...</td>\n",
       "    </tr>\n",
       "    <tr>\n",
       "      <th>2845337</th>\n",
       "      <td>A-2845338</td>\n",
       "      <td>2</td>\n",
       "      <td>2019-08-23 18:03:25</td>\n",
       "      <td>2019-08-23 18:32:01</td>\n",
       "      <td>34.002480</td>\n",
       "      <td>-117.379360</td>\n",
       "      <td>33.998880</td>\n",
       "      <td>-117.370940</td>\n",
       "      <td>0.543</td>\n",
       "      <td>At Market St - Accident.</td>\n",
       "      <td>...</td>\n",
       "      <td>False</td>\n",
       "      <td>Day</td>\n",
       "      <td>Day</td>\n",
       "      <td>Day</td>\n",
       "      <td>Day</td>\n",
       "      <td>2019-08-23</td>\n",
       "      <td>18:03:25</td>\n",
       "      <td>2019</td>\n",
       "      <td>08</td>\n",
       "      <td>23</td>\n",
       "    </tr>\n",
       "    <tr>\n",
       "      <th>2845338</th>\n",
       "      <td>A-2845339</td>\n",
       "      <td>2</td>\n",
       "      <td>2019-08-23 19:11:30</td>\n",
       "      <td>2019-08-23 19:38:23</td>\n",
       "      <td>32.766960</td>\n",
       "      <td>-117.148060</td>\n",
       "      <td>32.765550</td>\n",
       "      <td>-117.153630</td>\n",
       "      <td>0.338</td>\n",
       "      <td>At Camino Del Rio/Mission Center Rd - Accident.</td>\n",
       "      <td>...</td>\n",
       "      <td>False</td>\n",
       "      <td>Day</td>\n",
       "      <td>Day</td>\n",
       "      <td>Day</td>\n",
       "      <td>Day</td>\n",
       "      <td>2019-08-23</td>\n",
       "      <td>19:11:30</td>\n",
       "      <td>2019</td>\n",
       "      <td>08</td>\n",
       "      <td>23</td>\n",
       "    </tr>\n",
       "    <tr>\n",
       "      <th>2845339</th>\n",
       "      <td>A-2845340</td>\n",
       "      <td>2</td>\n",
       "      <td>2019-08-23 19:00:21</td>\n",
       "      <td>2019-08-23 19:28:49</td>\n",
       "      <td>33.775450</td>\n",
       "      <td>-117.847790</td>\n",
       "      <td>33.777400</td>\n",
       "      <td>-117.857270</td>\n",
       "      <td>0.561</td>\n",
       "      <td>At Glassell St/Grand Ave - Accident. in the ri...</td>\n",
       "      <td>...</td>\n",
       "      <td>False</td>\n",
       "      <td>Day</td>\n",
       "      <td>Day</td>\n",
       "      <td>Day</td>\n",
       "      <td>Day</td>\n",
       "      <td>2019-08-23</td>\n",
       "      <td>19:00:21</td>\n",
       "      <td>2019</td>\n",
       "      <td>08</td>\n",
       "      <td>23</td>\n",
       "    </tr>\n",
       "    <tr>\n",
       "      <th>2845340</th>\n",
       "      <td>A-2845341</td>\n",
       "      <td>2</td>\n",
       "      <td>2019-08-23 19:00:21</td>\n",
       "      <td>2019-08-23 19:29:42</td>\n",
       "      <td>33.992460</td>\n",
       "      <td>-118.403020</td>\n",
       "      <td>33.983110</td>\n",
       "      <td>-118.395650</td>\n",
       "      <td>0.772</td>\n",
       "      <td>At CA-90/Marina Fwy/Jefferson Blvd - Accident.</td>\n",
       "      <td>...</td>\n",
       "      <td>False</td>\n",
       "      <td>Day</td>\n",
       "      <td>Day</td>\n",
       "      <td>Day</td>\n",
       "      <td>Day</td>\n",
       "      <td>2019-08-23</td>\n",
       "      <td>19:00:21</td>\n",
       "      <td>2019</td>\n",
       "      <td>08</td>\n",
       "      <td>23</td>\n",
       "    </tr>\n",
       "    <tr>\n",
       "      <th>2845341</th>\n",
       "      <td>A-2845342</td>\n",
       "      <td>2</td>\n",
       "      <td>2019-08-23 18:52:06</td>\n",
       "      <td>2019-08-23 19:21:31</td>\n",
       "      <td>34.133930</td>\n",
       "      <td>-117.230920</td>\n",
       "      <td>34.137360</td>\n",
       "      <td>-117.239340</td>\n",
       "      <td>0.537</td>\n",
       "      <td>At Highland Ave/Arden Ave - Accident.</td>\n",
       "      <td>...</td>\n",
       "      <td>False</td>\n",
       "      <td>Day</td>\n",
       "      <td>Day</td>\n",
       "      <td>Day</td>\n",
       "      <td>Day</td>\n",
       "      <td>2019-08-23</td>\n",
       "      <td>18:52:06</td>\n",
       "      <td>2019</td>\n",
       "      <td>08</td>\n",
       "      <td>23</td>\n",
       "    </tr>\n",
       "  </tbody>\n",
       "</table>\n",
       "<p>2845342 rows × 52 columns</p>\n",
       "</div>"
      ],
      "text/plain": [
       "                ID  Severity           Start_Time             End_Time  \\\n",
       "0              A-1         3  2016-02-08 00:37:08  2016-02-08 06:37:08   \n",
       "1              A-2         2  2016-02-08 05:56:20  2016-02-08 11:56:20   \n",
       "2              A-3         2  2016-02-08 06:15:39  2016-02-08 12:15:39   \n",
       "3              A-4         2  2016-02-08 06:51:45  2016-02-08 12:51:45   \n",
       "4              A-5         3  2016-02-08 07:53:43  2016-02-08 13:53:43   \n",
       "...            ...       ...                  ...                  ...   \n",
       "2845337  A-2845338         2  2019-08-23 18:03:25  2019-08-23 18:32:01   \n",
       "2845338  A-2845339         2  2019-08-23 19:11:30  2019-08-23 19:38:23   \n",
       "2845339  A-2845340         2  2019-08-23 19:00:21  2019-08-23 19:28:49   \n",
       "2845340  A-2845341         2  2019-08-23 19:00:21  2019-08-23 19:29:42   \n",
       "2845341  A-2845342         2  2019-08-23 18:52:06  2019-08-23 19:21:31   \n",
       "\n",
       "         Start_Lat   Start_Lng    End_Lat     End_Lng  Distance(mi)  \\\n",
       "0        40.108910  -83.092860  40.112060  -83.031870         3.230   \n",
       "1        39.865420  -84.062800  39.865010  -84.048730         0.747   \n",
       "2        39.102660  -84.524680  39.102090  -84.523960         0.055   \n",
       "3        41.062130  -81.537840  41.062170  -81.535470         0.123   \n",
       "4        39.172393  -84.492792  39.170476  -84.501798         0.500   \n",
       "...            ...         ...        ...         ...           ...   \n",
       "2845337  34.002480 -117.379360  33.998880 -117.370940         0.543   \n",
       "2845338  32.766960 -117.148060  32.765550 -117.153630         0.338   \n",
       "2845339  33.775450 -117.847790  33.777400 -117.857270         0.561   \n",
       "2845340  33.992460 -118.403020  33.983110 -118.395650         0.772   \n",
       "2845341  34.133930 -117.230920  34.137360 -117.239340         0.537   \n",
       "\n",
       "                                               Description  ...  Turning_Loop  \\\n",
       "0        Between Sawmill Rd/Exit 20 and OH-315/Olentang...  ...         False   \n",
       "1                       At OH-4/OH-235/Exit 41 - Accident.  ...         False   \n",
       "2                         At I-71/US-50/Exit 1 - Accident.  ...         False   \n",
       "3                          At Dart Ave/Exit 21 - Accident.  ...         False   \n",
       "4                       At Mitchell Ave/Exit 6 - Accident.  ...         False   \n",
       "...                                                    ...  ...           ...   \n",
       "2845337                           At Market St - Accident.  ...         False   \n",
       "2845338    At Camino Del Rio/Mission Center Rd - Accident.  ...         False   \n",
       "2845339  At Glassell St/Grand Ave - Accident. in the ri...  ...         False   \n",
       "2845340     At CA-90/Marina Fwy/Jefferson Blvd - Accident.  ...         False   \n",
       "2845341              At Highland Ave/Arden Ave - Accident.  ...         False   \n",
       "\n",
       "        Sunrise_Sunset Civil_Twilight Nautical_Twilight Astronomical_Twilight  \\\n",
       "0                Night          Night             Night                 Night   \n",
       "1                Night          Night             Night                 Night   \n",
       "2                Night          Night             Night                   Day   \n",
       "3                Night          Night               Day                   Day   \n",
       "4                  Day            Day               Day                   Day   \n",
       "...                ...            ...               ...                   ...   \n",
       "2845337            Day            Day               Day                   Day   \n",
       "2845338            Day            Day               Day                   Day   \n",
       "2845339            Day            Day               Day                   Day   \n",
       "2845340            Day            Day               Day                   Day   \n",
       "2845341            Day            Day               Day                   Day   \n",
       "\n",
       "               Date      Time  Year Month Day  \n",
       "0        2016-02-08  00:37:08  2016    02  08  \n",
       "1        2016-02-08  05:56:20  2016    02  08  \n",
       "2        2016-02-08  06:15:39  2016    02  08  \n",
       "3        2016-02-08  06:51:45  2016    02  08  \n",
       "4        2016-02-08  07:53:43  2016    02  08  \n",
       "...             ...       ...   ...   ...  ..  \n",
       "2845337  2019-08-23  18:03:25  2019    08  23  \n",
       "2845338  2019-08-23  19:11:30  2019    08  23  \n",
       "2845339  2019-08-23  19:00:21  2019    08  23  \n",
       "2845340  2019-08-23  19:00:21  2019    08  23  \n",
       "2845341  2019-08-23  18:52:06  2019    08  23  \n",
       "\n",
       "[2845342 rows x 52 columns]"
      ]
     },
     "execution_count": 5,
     "metadata": {},
     "output_type": "execute_result"
    }
   ],
   "source": [
    "# then splitting date into month, year and day \n",
    "df[['Year', 'Month', 'Day']] = df['Date'].str.split(pat = \"-\", expand=True) \n",
    "df"
   ]
  },
  {
   "cell_type": "code",
   "execution_count": 6,
   "id": "d3c5cb31",
   "metadata": {},
   "outputs": [
    {
     "data": {
      "text/plain": [
       "2021    1511745\n",
       "2020     625864\n",
       "2019     258615\n",
       "2018     163176\n",
       "Name: Year, dtype: int64"
      ]
     },
     "execution_count": 6,
     "metadata": {},
     "output_type": "execute_result"
    }
   ],
   "source": [
    "# deleting data from years 2016 and 2017, then counting number of values\n",
    "# df is final cleaned data frame\n",
    "df_final = df[(df['Year'] != '2016') & (df['Year'] != '2017')]\n",
    "df_final['Year'].value_counts()"
   ]
  },
  {
   "cell_type": "code",
   "execution_count": 7,
   "id": "06561d8f",
   "metadata": {},
   "outputs": [],
   "source": [
    "#creating databases for variables needed for each question: \n",
    "# Q1\n",
    "q1_df = df_final[['ID','Year']]\n",
    "\n",
    "# Q2\n",
    "q2_df = df_final[['ID','Precipitation(in)','Temperature(F)', 'Visibility(mi)', 'Weather_Condition']]\n",
    "\n",
    "# Q3\n",
    "q3_df = df_final[['ID','State', 'City', 'Timezone', 'End_Lat', 'End_Lng','Year']]\n",
    "\n",
    "# Q4\n",
    "q4_df = df_final[['ID','Time','Sunrise_Sunset']]"
   ]
  },
  {
   "cell_type": "code",
   "execution_count": 8,
   "id": "b3e7bb59",
   "metadata": {},
   "outputs": [],
   "source": [
    "# drop rows containing missing values\n",
    "# Q1 - Trends of accident before/during pandemic\n",
    "q1_df_cleaned = q1_df.dropna()\n",
    "q1_df_cleaned\n",
    "q1_df_cleaned.to_csv(\"Q1_Year_data.csv\")"
   ]
  },
  {
   "cell_type": "code",
   "execution_count": 9,
   "id": "6e8712f6",
   "metadata": {},
   "outputs": [],
   "source": [
    "# drop rows containing missing values\n",
    "# Q2 - Effect of environmental factors on the trend of accidents\n",
    "q2_df_cleaned = q2_df.dropna()\n",
    "q2_df_cleaned\n",
    "q2_df_cleaned.to_csv(\"Q2_Weather_data.csv\")"
   ]
  },
  {
   "cell_type": "code",
   "execution_count": 10,
   "id": "8ceb8962",
   "metadata": {},
   "outputs": [],
   "source": [
    "# drop rows containing missing values\n",
    "# Q3 - Accidents by regions (cities, timezone)\n",
    "q3_df_cleaned = q3_df.dropna()\n",
    "q3_df_cleaned\n",
    "q3_df_cleaned.to_csv(\"Q3_location_data.csv\")"
   ]
  },
  {
   "cell_type": "code",
   "execution_count": 11,
   "id": "50e415b8",
   "metadata": {},
   "outputs": [],
   "source": [
    "# drop rows containing missing values\n",
    "# Q4 - Did time of day increase the likelihood of accidents?\n",
    "q4_df_cleaned = q4_df.dropna()\n",
    "q4_df_cleaned\n",
    "q4_df_cleaned.to_csv(\"Q4_Time_data.csv\")"
   ]
  },
  {
   "cell_type": "code",
   "execution_count": 12,
   "id": "a0f78373",
   "metadata": {},
   "outputs": [
    {
     "data": {
      "text/plain": [
       "<AxesSubplot:ylabel='Year'>"
      ]
     },
     "execution_count": 12,
     "metadata": {},
     "output_type": "execute_result"
    },
    {
     "data": {
      "image/png": "[encoded data removed]",
      "text/plain": [
       "<Figure size 432x288 with 1 Axes>"
      ]
     },
     "metadata": {},
     "output_type": "display_data"
    }
   ],
   "source": [
    "#plotting pie chart for q1\n",
    "#creating labels\n",
    "q1_df_cleaned[\"Year\"].value_counts().plot(kind='pie')"
   ]
  },
  {
   "cell_type": "code",
   "execution_count": null,
   "id": "ac5ad6e4",
   "metadata": {},
   "outputs": [],
   "source": [
    "q2_df_cleaned"
   ]
  },
  {
   "cell_type": "code",
   "execution_count": 13,
   "id": "378c502f",
   "metadata": {},
   "outputs": [
    {
     "data": {
      "text/html": [
       "<div>\n",
       "<style scoped>\n",
       "    .dataframe tbody tr th:only-of-type {\n",
       "        vertical-align: middle;\n",
       "    }\n",
       "\n",
       "    .dataframe tbody tr th {\n",
       "        vertical-align: top;\n",
       "    }\n",
       "\n",
       "    .dataframe thead th {\n",
       "        text-align: right;\n",
       "    }\n",
       "</style>\n",
       "<table border=\"1\" class=\"dataframe\">\n",
       "  <thead>\n",
       "    <tr style=\"text-align: right;\">\n",
       "      <th></th>\n",
       "      <th>ID</th>\n",
       "      <th>Precipitation(in)</th>\n",
       "      <th>Temperature(F)</th>\n",
       "      <th>Visibility(mi)</th>\n",
       "      <th>Weather_Condition</th>\n",
       "    </tr>\n",
       "  </thead>\n",
       "  <tbody>\n",
       "    <tr>\n",
       "      <th>224945</th>\n",
       "      <td>A-224946</td>\n",
       "      <td>0.0</td>\n",
       "      <td>42.0</td>\n",
       "      <td>10.0</td>\n",
       "      <td>Fair</td>\n",
       "    </tr>\n",
       "    <tr>\n",
       "      <th>224946</th>\n",
       "      <td>A-224947</td>\n",
       "      <td>0.0</td>\n",
       "      <td>54.0</td>\n",
       "      <td>2.0</td>\n",
       "      <td>Fog</td>\n",
       "    </tr>\n",
       "    <tr>\n",
       "      <th>224947</th>\n",
       "      <td>A-224948</td>\n",
       "      <td>0.0</td>\n",
       "      <td>79.0</td>\n",
       "      <td>10.0</td>\n",
       "      <td>Mostly Cloudy</td>\n",
       "    </tr>\n",
       "    <tr>\n",
       "      <th>224948</th>\n",
       "      <td>A-224949</td>\n",
       "      <td>0.0</td>\n",
       "      <td>38.0</td>\n",
       "      <td>10.0</td>\n",
       "      <td>Cloudy</td>\n",
       "    </tr>\n",
       "    <tr>\n",
       "      <th>224949</th>\n",
       "      <td>A-224950</td>\n",
       "      <td>0.0</td>\n",
       "      <td>52.0</td>\n",
       "      <td>10.0</td>\n",
       "      <td>Fair</td>\n",
       "    </tr>\n",
       "    <tr>\n",
       "      <th>...</th>\n",
       "      <td>...</td>\n",
       "      <td>...</td>\n",
       "      <td>...</td>\n",
       "      <td>...</td>\n",
       "      <td>...</td>\n",
       "    </tr>\n",
       "    <tr>\n",
       "      <th>2845337</th>\n",
       "      <td>A-2845338</td>\n",
       "      <td>0.0</td>\n",
       "      <td>86.0</td>\n",
       "      <td>10.0</td>\n",
       "      <td>Fair</td>\n",
       "    </tr>\n",
       "    <tr>\n",
       "      <th>2845338</th>\n",
       "      <td>A-2845339</td>\n",
       "      <td>0.0</td>\n",
       "      <td>70.0</td>\n",
       "      <td>10.0</td>\n",
       "      <td>Fair</td>\n",
       "    </tr>\n",
       "    <tr>\n",
       "      <th>2845339</th>\n",
       "      <td>A-2845340</td>\n",
       "      <td>0.0</td>\n",
       "      <td>73.0</td>\n",
       "      <td>10.0</td>\n",
       "      <td>Partly Cloudy</td>\n",
       "    </tr>\n",
       "    <tr>\n",
       "      <th>2845340</th>\n",
       "      <td>A-2845341</td>\n",
       "      <td>0.0</td>\n",
       "      <td>71.0</td>\n",
       "      <td>10.0</td>\n",
       "      <td>Fair</td>\n",
       "    </tr>\n",
       "    <tr>\n",
       "      <th>2845341</th>\n",
       "      <td>A-2845342</td>\n",
       "      <td>0.0</td>\n",
       "      <td>79.0</td>\n",
       "      <td>7.0</td>\n",
       "      <td>Fair</td>\n",
       "    </tr>\n",
       "  </tbody>\n",
       "</table>\n",
       "<p>2235266 rows × 5 columns</p>\n",
       "</div>"
      ],
      "text/plain": [
       "                ID  Precipitation(in)  Temperature(F)  Visibility(mi)  \\\n",
       "224945    A-224946                0.0            42.0            10.0   \n",
       "224946    A-224947                0.0            54.0             2.0   \n",
       "224947    A-224948                0.0            79.0            10.0   \n",
       "224948    A-224949                0.0            38.0            10.0   \n",
       "224949    A-224950                0.0            52.0            10.0   \n",
       "...            ...                ...             ...             ...   \n",
       "2845337  A-2845338                0.0            86.0            10.0   \n",
       "2845338  A-2845339                0.0            70.0            10.0   \n",
       "2845339  A-2845340                0.0            73.0            10.0   \n",
       "2845340  A-2845341                0.0            71.0            10.0   \n",
       "2845341  A-2845342                0.0            79.0             7.0   \n",
       "\n",
       "        Weather_Condition  \n",
       "224945               Fair  \n",
       "224946                Fog  \n",
       "224947      Mostly Cloudy  \n",
       "224948             Cloudy  \n",
       "224949               Fair  \n",
       "...                   ...  \n",
       "2845337              Fair  \n",
       "2845338              Fair  \n",
       "2845339     Partly Cloudy  \n",
       "2845340              Fair  \n",
       "2845341              Fair  \n",
       "\n",
       "[2235266 rows x 5 columns]"
      ]
     },
     "execution_count": 13,
     "metadata": {},
     "output_type": "execute_result"
    }
   ],
   "source": [
    "# ['Year'] != '2016') & (df['Year'] != '2017')\n",
    "# ['Year'].value_counts()"
   ]
  },
  {
   "cell_type": "code",
   "execution_count": 14,
   "id": "485228c7",
   "metadata": {},
   "outputs": [
    {
     "name": "stderr",
     "output_type": "stream",
     "text": [
      "C:\\Users\\ramya\\AppData\\Local\\Temp\\ipykernel_1784\\872205001.py:1: SettingWithCopyWarning: \n",
      "A value is trying to be set on a copy of a slice from a DataFrame\n",
      "\n",
      "See the caveats in the documentation: https://pandas.pydata.org/pandas-docs/stable/user_guide/indexing.html#returning-a-view-versus-a-copy\n",
      "  q2_df_cleaned.rename(columns={'Precipitation(in)': 'Precipitation', 'Temperature(F)': 'Temperature',\n"
     ]
    }
   ],
   "source": [
    "q2_df_cleaned.rename(columns={'Precipitation(in)': 'Precipitation', 'Temperature(F)': 'Temperature',\n",
    "                   \"Visibility(mi)\": \"Visibility\"}, inplace=True)"
   ]
  },
  {
   "cell_type": "code",
   "execution_count": 79,
   "id": "8319b214",
   "metadata": {},
   "outputs": [
    {
     "data": {
      "image/png": "[encoded data removed]",
      "text/plain": [
       "<Figure size 432x288 with 1 Axes>"
      ]
     },
     "metadata": {
      "needs_background": "light"
     },
     "output_type": "display_data"
    }
   ],
   "source": [
    "x_axis = q2_df_cleaned[\"Precipitation\"]\n",
    "y_axis = np.arange(len(q2_df_cleaned[\"Precipitation\"]))\n",
    "plt.scatter(x_axis, y_axis)\n",
    "plt.title(\"Number of Accidents based on Precipitation(in)\")\n",
    "plt.xlabel(\"Precipitation based on inches\")\n",
    "plt.ylabel(\"Number of Accidents\")\n",
    "plt.savefig(\"Number of Accidents based on Precipitation(in).png\")"
   ]
  },
  {
   "cell_type": "code",
   "execution_count": 17,
   "id": "2f6de7c0",
   "metadata": {},
   "outputs": [
    {
     "data": {
      "text/plain": [
       "Text(0, 0.5, 'Number of Accidents')"
      ]
     },
     "execution_count": 17,
     "metadata": {},
     "output_type": "execute_result"
    },
    {
     "data": {
      "image/png": "[encoded data removed]",
      "text/plain": [
       "<Figure size 1800x288 with 1 Axes>"
      ]
     },
     "metadata": {
      "needs_background": "light"
     },
     "output_type": "display_data"
    }
   ],
   "source": [
    "#weather condition IN PRESENTATION, explaination as to why these 6 were significant\n",
    "q2_df_cleaned.Weather_Condition.head(25).value_counts().sort_values().plot(kind = 'bar', figsize=(25,4), \n",
    "                                                                           alpha=0.5, align=\"edge\")\n",
    "plt.title(\"Weather Condition vs. Number of Accidents\")\n",
    "plt.xlabel(\"Weather Condition\")\n",
    "plt.ylabel(\"Number of Accidents\")\n",
    "plt.savefig(\"Weather Condition vs. Number of Accidents.png\")"
   ]
  },
  {
   "cell_type": "code",
   "execution_count": 74,
   "id": "d67949a9",
   "metadata": {},
   "outputs": [
    {
     "data": {
      "image/png": "[encoded data removed]",
      "text/plain": [
       "<Figure size 432x288 with 1 Axes>"
      ]
     },
     "metadata": {
      "needs_background": "light"
     },
     "output_type": "display_data"
    }
   ],
   "source": [
    "#visibility IN PRESENTATION \n",
    "x_axis = q2_df_cleaned[\"Visibility\"]\n",
    "y_axis = np.arange(len(q2_df_cleaned[\"Visibility\"]))\n",
    "plt.scatter(x_axis, y_axis)\n",
    "plt.title(\"Number of Accidents based on Visibility(mi)\")\n",
    "plt.xlabel(\"Visibility based on miles\")\n",
    "plt.ylabel(\"Number of Accidents\")\n",
    "plt.savefig(\"Number of Accidents based on Visibility.png\")"
   ]
  },
  {
   "cell_type": "code",
   "execution_count": 29,
   "id": "9f4fff80",
   "metadata": {},
   "outputs": [],
   "source": [
    "#temperature\n",
    "temp = q2_df_cleaned.Temperature.value_counts()\n",
    "temp1=temp.head(25)"
   ]
  },
  {
   "cell_type": "code",
   "execution_count": 88,
   "id": "1fecc759",
   "metadata": {},
   "outputs": [
    {
     "data": {
      "image/png": "[encoded data removed]",
      "text/plain": [
       "<Figure size 1800x360 with 1 Axes>"
      ]
     },
     "metadata": {
      "needs_background": "light"
     },
     "output_type": "display_data"
    }
   ],
   "source": [
    "temp1.sort_values().plot(kind = 'bar', figsize=(25,5))\n",
    "plt.title(\"Temperature(F) vs. Number of Accidents\")\n",
    "plt.xlabel(\"Temperature(F)\")\n",
    "plt.ylabel(\"Number of Accidents\")\n",
    "plt.savefig(\"Temperature(F) vs. Number of Accidents(bargraph).png\")"
   ]
  },
  {
   "cell_type": "code",
   "execution_count": 87,
   "id": "eb71ef4b",
   "metadata": {},
   "outputs": [
    {
     "data": {
      "image/png": "[encoded data removed]",
      "text/plain": [
       "<Figure size 432x288 with 1 Axes>"
      ]
     },
     "metadata": {
      "needs_background": "light"
     },
     "output_type": "display_data"
    }
   ],
   "source": [
    "x_axis = q2_df_cleaned[\"Temperature\"]\n",
    "y_axis = np.arange(len(q2_df_cleaned[\"Temperature\"]))\n",
    "# pe_slope, pe_int, pe_r, pe_p, pe_std_err = stats.linregress(x_axis, y_axis)\n",
    "# pe_fit = pe_slope * x_axis + pe_int\n",
    "# plt.plot(x_axis,pe_fit,\"--\", color=\"r\")\n",
    "plt.scatter(x_axis, y_axis)\n",
    "plt.title(\"Number of Accidents based on Temperature(F)\")\n",
    "plt.xlabel(\"Temperature in Degrees (F)\")\n",
    "plt.ylabel(\"Number of Accidents\")\n",
    "plt.savefig(\"Number of Accidents based on Temperature(F)(scatterplot).png\")"
   ]
  },
  {
   "cell_type": "code",
   "execution_count": null,
   "id": "11bf4c61",
   "metadata": {},
   "outputs": [],
   "source": []
  }
 ],
 "metadata": {
  "kernelspec": {
   "display_name": "Python 3 (ipykernel)",
   "language": "python",
   "name": "python3"
  },
  "language_info": {
   "codemirror_mode": {
    "name": "ipython",
    "version": 3
   },
   "file_extension": ".py",
   "mimetype": "text/x-python",
   "name": "python",
   "nbconvert_exporter": "python",
   "pygments_lexer": "ipython3",
   "version": "3.9.12"
  }
 },
 "nbformat": 4,
 "nbformat_minor": 5
}
