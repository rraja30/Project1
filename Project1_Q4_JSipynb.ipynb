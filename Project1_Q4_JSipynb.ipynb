{
 "cells": [
  {
   "cell_type": "markdown",
   "id": "987cb6b5",
   "metadata": {},
   "source": [
    "# Code to explode and lable Pie chart in Q1"
   ]
  },
  {
   "cell_type": "code",
   "execution_count": null,
   "id": "c4a7353a",
   "metadata": {},
   "outputs": [],
   "source": [
    "#To set explode and percentages on the pie chart for Q1\n",
    "plt.pie(sizes, explode=explode, labels=labels, colors=colors,\n",
    "        autopct=\"%1.1f%%\", shadow=True, startangle=140)\n",
    "\n",
    "#To save pie as image in case we want to include it as pic on presentation:\n",
    "    plt.savefig(\"../Images/PyPies.png\")\n",
    "plt.show()"
   ]
  },
  {
   "cell_type": "code",
   "execution_count": null,
   "id": "7516a07e",
   "metadata": {},
   "outputs": [],
   "source": []
  },
  {
   "cell_type": "markdown",
   "id": "718d9b65",
   "metadata": {},
   "source": [
    "# Code for Q4"
   ]
  },
  {
   "cell_type": "code",
   "execution_count": null,
   "id": "a3f15a75",
   "metadata": {},
   "outputs": [],
   "source": [
    "#Create Before and During dataframes\n",
    "q4_df = df_final[['ID','Time','Sunrise_Sunset', 'Year']]"
   ]
  },
  {
   "cell_type": "code",
   "execution_count": null,
   "id": "94371e28",
   "metadata": {},
   "outputs": [],
   "source": [
    "#Get count of day time accidents before Covid (2018-2019)\n",
    "columns = [\"ID\", \"Time\", \"Sunrise_Sunset\", \"Year\"]\n",
    "day_df = q4_df.loc[q4_df[\"Sunrise_Sunset\"] == \"Day\", columns]\n",
    "day_df"
   ]
  },
  {
   "cell_type": "code",
   "execution_count": null,
   "id": "0fc50af1",
   "metadata": {},
   "outputs": [],
   "source": [
    "precov_day_df = day_df[(day_df['Year'] != '2020') & (day_df['Year'] != '2021')]\n",
    "precov_day_df.describe()"
   ]
  },
  {
   "cell_type": "code",
   "execution_count": null,
   "id": "b5f11b8a",
   "metadata": {},
   "outputs": [],
   "source": [
    "#Get count of night time accidents before Covid (2018-2019)\n",
    "columns = [\"ID\", \"Time\", \"Sunrise_Sunset\", \"Year\"]\n",
    "night_df = q4_df.loc[q4_df[\"Sunrise_Sunset\"] == \"Night\", columns]\n",
    "night_df"
   ]
  },
  {
   "cell_type": "code",
   "execution_count": null,
   "id": "fbf012e1",
   "metadata": {},
   "outputs": [],
   "source": [
    "precov_night_df = night_df[(night_df['Year'] != '2020') & (day_df['Year'] != '2021')]\n",
    "precov_night_df.describe()"
   ]
  },
  {
   "cell_type": "code",
   "execution_count": null,
   "id": "4289686c",
   "metadata": {},
   "outputs": [],
   "source": []
  },
  {
   "cell_type": "code",
   "execution_count": null,
   "id": "29f87637",
   "metadata": {},
   "outputs": [],
   "source": [
    "#Get count of day time accidents during Covid (2020-2021)\n",
    "durcov_day_df = day_df[(day_df['Year'] != '2018') & (day_df['Year'] != '2019')]\n",
    "durcov_day_df.describe()"
   ]
  },
  {
   "cell_type": "code",
   "execution_count": null,
   "id": "53a711b2",
   "metadata": {},
   "outputs": [],
   "source": [
    "#Get count of night time accidents during Covid (2020-2021)"
   ]
  },
  {
   "cell_type": "code",
   "execution_count": null,
   "id": "fabbadcf",
   "metadata": {},
   "outputs": [],
   "source": [
    "durcov_night_df = night_df[(night_df['Year'] != '2018') & (day_df['Year'] != '2019')]\n",
    "durcov_night_df.describe()"
   ]
  },
  {
   "cell_type": "code",
   "execution_count": null,
   "id": "1caa76db",
   "metadata": {},
   "outputs": [],
   "source": [
    "# SHOW FINDINGS VISUALLY\n",
    "#Plot number of daytime acccidents (ID) pre-covid vs. during covid\n",
    "precov_day_incidents = precov_day_df['ID']\n",
    "durcov_day_incidents = durcov_day_df['ID']\n",
    "plt.scatter(malic_acid,flavanoids)\n",
    "plt.xlabel(\"During Covid: Day Time Incidents\")\n",
    "plt.ylabel(\"Pre-Covid: Day Time Incidents\")\n",
    "plt.show()"
   ]
  },
  {
   "cell_type": "code",
   "execution_count": null,
   "id": "e3555575",
   "metadata": {},
   "outputs": [],
   "source": [
    "# Compare findings using Correlation Coefficient\n",
    "#The correlation coefficient between pre and during covid for daytime incidents;\n",
    "print(f\"The correlation coefficient between pre and during covid daytime incidents is {round(st.pearsonr(precov_day_incidents,durcov_day_incidents)[0],2)}\")"
   ]
  },
  {
   "cell_type": "code",
   "execution_count": null,
   "id": "a2b3a02b",
   "metadata": {},
   "outputs": [],
   "source": []
  },
  {
   "cell_type": "code",
   "execution_count": null,
   "id": "4674a665",
   "metadata": {},
   "outputs": [],
   "source": [
    "#Plot number of night acccidents (ID) pre-covid vs. during covid\n",
    "precov_night_incidents = precov_night_df['ID']\n",
    "durcov_night_incidents = durcov_night_df['ID']\n",
    "plt.scatter(malic_acid,flavanoids)\n",
    "plt.xlabel(\"During Covid: Night Time Incidents\")\n",
    "plt.ylabel(\"Pre-Covid: Night Time Incidents\")\n",
    "plt.show()"
   ]
  },
  {
   "cell_type": "code",
   "execution_count": null,
   "id": "0ef98b36",
   "metadata": {},
   "outputs": [],
   "source": [
    "# Compare findings using Correlation Coefficient\n",
    "#The correlation coefficient between pre and during covid for daytime incidents;\n",
    "print(f\"The correlation coefficient between pre and during covid night time incidents is {round(st.pearsonr(precov_night_incidents,durcov_night_incidents)[0],2)}\")"
   ]
  }
 ],
 "metadata": {
  "kernelspec": {
   "display_name": "PythonData",
   "language": "python",
   "name": "pythondata"
  },
  "language_info": {
   "codemirror_mode": {
    "name": "ipython",
    "version": 3
   },
   "file_extension": ".py",
   "mimetype": "text/x-python",
   "name": "python",
   "nbconvert_exporter": "python",
   "pygments_lexer": "ipython3",
   "version": "3.7.7"
  }
 },
 "nbformat": 4,
 "nbformat_minor": 5
}
