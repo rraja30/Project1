{
 "cells": [
  {
   "cell_type": "code",
   "execution_count": null,
   "id": "0c47118c",
   "metadata": {},
   "outputs": [],
   "source": [
    "#open csv\n",
    "\n",
    "import os\n",
    "import csv\n",
    "import pandas as pd\n",
    "\n",
    "csvpath = os.path.join('US_Accidents_Dec21_updated.csv')\n"
   ]
  },
  {
   "cell_type": "code",
   "execution_count": null,
   "id": "94f8a753",
   "metadata": {},
   "outputs": [],
   "source": [
    "#read csv\n",
    "test_df = pd.read_csv(csvpath)\n",
    "test_df.head(4)"
   ]
  },
  {
   "cell_type": "code",
   "execution_count": null,
   "id": "a9ddf728",
   "metadata": {},
   "outputs": [],
   "source": []
  },
  {
   "cell_type": "code",
   "execution_count": null,
   "id": "43895ed6",
   "metadata": {},
   "outputs": [],
   "source": []
  },
  {
   "cell_type": "code",
   "execution_count": null,
   "id": "65433838",
   "metadata": {},
   "outputs": [],
   "source": [
    "#created separate dataframe for each question, then drop nulls\n",
    "q1_df = test_df[[\"Start_Time\",\"End_Time\"]]\n",
    "q1_df.info()"
   ]
  },
  {
   "cell_type": "code",
   "execution_count": null,
   "id": "58656bb2",
   "metadata": {},
   "outputs": [],
   "source": [
    "#dropping nulls\n",
    "q1_df.dropna()"
   ]
  },
  {
   "cell_type": "code",
   "execution_count": null,
   "id": "27219b82",
   "metadata": {},
   "outputs": [],
   "source": [
    "# change date/time variables to \n",
    "#q1_df = pd.to_datetime(q1_df.Start_Time)\n",
    "q1_df[['Date','Time']] = q1_df['Start_Time'].str.split(expand=True)\n",
    "q1_df.info()\n",
    "print (q1_df)"
   ]
  },
  {
   "cell_type": "code",
   "execution_count": null,
   "id": "ad564d75",
   "metadata": {},
   "outputs": [],
   "source": [
    "#trying to split date into month and year\n",
    "q1_df[['Month', 'Day', 'Year']] = q1_df['Date'].str.split(pat = \"/\", expand=True) \n",
    "q1_df.info()\n",
    "q1_df"
   ]
  },
  {
   "cell_type": "code",
   "execution_count": null,
   "id": "60b405f7",
   "metadata": {},
   "outputs": [],
   "source": [
    "q1_df[\"Year\"] = q1_df[\"Year\"].astype(str).astype(int)"
   ]
  },
  {
   "cell_type": "code",
   "execution_count": null,
   "id": "66588685",
   "metadata": {},
   "outputs": [],
   "source": [
    "q1_df1 = q1_df[q1_df[\"Year\"] != 2016]\n",
    "q1_df1"
   ]
  },
  {
   "cell_type": "code",
   "execution_count": null,
   "id": "76d91f3c",
   "metadata": {},
   "outputs": [],
   "source": [
    "#q1_df[\"Date\"]\n",
    "\n",
    "# q1_df['Date'] = pd.to_datetime(q1_df['Date'])\n",
    "# res = df[~(df['Date'] < '2017-01-01')]\n",
    "# print(res)"
   ]
  },
  {
   "cell_type": "code",
   "execution_count": null,
   "id": "0204f90a",
   "metadata": {},
   "outputs": [],
   "source": [
    "q2_df = test_df[[\"Temperature(F)\", \"Wind_Chill(F)\", \"Humidity(%)\", \"Pressure(in)\", \"Visibility(mi)\", \"Wind_Speed(mph)\", \n",
    "                 \"Precipitation(in)\", \"Weather_Condition\", \"Sunrise_Sunset\"]]\n",
    "q2_df.info()"
   ]
  },
  {
   "cell_type": "code",
   "execution_count": null,
   "id": "0d22bc8f",
   "metadata": {},
   "outputs": [],
   "source": [
    "q2_df.dropna()"
   ]
  },
  {
   "cell_type": "code",
   "execution_count": null,
   "id": "f7537ab6",
   "metadata": {},
   "outputs": [],
   "source": [
    "q3_df = test_df[[\"City\", \"State\"]]\n",
    "q4_df = test_df[[]]"
   ]
  },
  {
   "cell_type": "code",
   "execution_count": null,
   "id": "edba592b",
   "metadata": {},
   "outputs": [],
   "source": [
    "\n"
   ]
  },
  {
   "cell_type": "code",
   "execution_count": null,
   "id": "186f22dc",
   "metadata": {},
   "outputs": [],
   "source": []
  },
  {
   "cell_type": "code",
   "execution_count": null,
   "id": "60baf971",
   "metadata": {},
   "outputs": [],
   "source": []
  }
 ],
 "metadata": {
  "kernelspec": {
   "display_name": "Python 3 (ipykernel)",
   "language": "python",
   "name": "python3"
  },
  "language_info": {
   "codemirror_mode": {
    "name": "ipython",
    "version": 3
   },
   "file_extension": ".py",
   "mimetype": "text/x-python",
   "name": "python",
   "nbconvert_exporter": "python",
   "pygments_lexer": "ipython3",
   "version": "3.9.12"
  }
 },
 "nbformat": 4,
 "nbformat_minor": 5
}
