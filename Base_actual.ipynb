{
 "cells": [
  {
   "cell_type": "code",
   "execution_count": null,
   "id": "36f89ca6",
   "metadata": {},
   "outputs": [],
   "source": [
    "!pip install opendatasets --upgrade --quiet"
   ]
  },
  {
   "cell_type": "code",
   "execution_count": null,
   "id": "4e4b04f6",
   "metadata": {},
   "outputs": [],
   "source": [
    "download_url = 'https://www.kaggle.com/datasets/sobhanmoosavi/us-accidents'\n",
    "od.download(download_url)"
   ]
  },
  {
   "cell_type": "code",
   "execution_count": null,
   "id": "b586d2e2",
   "metadata": {},
   "outputs": [],
   "source": [
    "import opendatasets as od\n",
    "import pandas as pd\n",
    "import numpy as np \n",
    "import matplotlib.pyplot as plt"
   ]
  },
  {
   "cell_type": "code",
   "execution_count": null,
   "id": "0db8e14b",
   "metadata": {},
   "outputs": [],
   "source": [
    "df = pd.read_csv('New Folder/US_Accidents_Dec21_updated.csv')"
   ]
  },
  {
   "cell_type": "code",
   "execution_count": null,
   "id": "e9e30cee",
   "metadata": {},
   "outputs": [],
   "source": [
    "df"
   ]
  },
  {
   "cell_type": "code",
   "execution_count": null,
   "id": "83621a47",
   "metadata": {},
   "outputs": [],
   "source": [
    "df.columns"
   ]
  },
  {
   "cell_type": "code",
   "execution_count": null,
   "id": "50076378",
   "metadata": {},
   "outputs": [],
   "source": [
    "df.dropna()"
   ]
  },
  {
   "cell_type": "code",
   "execution_count": null,
   "id": "25b1a019",
   "metadata": {},
   "outputs": [],
   "source": [
    "df.info"
   ]
  },
  {
   "cell_type": "code",
   "execution_count": null,
   "id": "2cf24fb7",
   "metadata": {},
   "outputs": [],
   "source": [
    "#splitting Start_Time varible by date and time, then splitting date into month, year and day \n",
    "df[['Date','Time']] = df['Start_Time'].str.split(expand=True)\n",
    "df[['Year', 'Month', 'Day']] = df['Date'].str.split(pat = \"-\", expand=True) "
   ]
  },
  {
   "cell_type": "code",
   "execution_count": null,
   "id": "907ebfde",
   "metadata": {},
   "outputs": [],
   "source": [
    "#deleting data from years 2016 and 2017, then counting number of values\n",
    "#df is final cleaned data frame\n",
    "df=df[(df['Year'] != '2016') & (df['Year'] != '2017')]\n",
    "df['Year'].value_counts()"
   ]
  },
  {
   "cell_type": "code",
   "execution_count": null,
   "id": "e93be209",
   "metadata": {},
   "outputs": [],
   "source": [
    "df.head()"
   ]
  },
  {
   "cell_type": "code",
   "execution_count": null,
   "id": "4593958d",
   "metadata": {},
   "outputs": [],
   "source": [
    "#creating databases for variables for each question: \n",
    "q1_df = df[['ID','Year']]\n",
    "q2_df = df[['ID','Precipitation(in)','Temperature(F)', 'Visibility(mi)', 'Precipitation(in)', 'Weather_Condition']]\n",
    "q3_df = df[['ID','State', 'City', 'Timezone', 'End_Lat', 'End_Lng']]\n",
    "q4_df = df[['ID','Time']]"
   ]
  },
  {
   "cell_type": "code",
   "execution_count": null,
   "id": "5794fb70",
   "metadata": {},
   "outputs": [],
   "source": [
    "q1_df"
   ]
  },
  {
   "cell_type": "code",
   "execution_count": null,
   "id": "531d9b21",
   "metadata": {},
   "outputs": [],
   "source": [
    "q2_df"
   ]
  },
  {
   "cell_type": "code",
   "execution_count": null,
   "id": "aa262122",
   "metadata": {},
   "outputs": [],
   "source": [
    "q3_df"
   ]
  },
  {
   "cell_type": "code",
   "execution_count": null,
   "id": "2dc7a97b",
   "metadata": {},
   "outputs": [],
   "source": [
    "q4_df"
   ]
  },
  {
   "cell_type": "code",
   "execution_count": null,
   "id": "6c4eea22",
   "metadata": {},
   "outputs": [],
   "source": [
    "#plotting pie chart for q1\n",
    "#creating labels\n",
    "q1_df[\"Year\"].value_counts().plot(kind='pie')"
   ]
  },
  {
   "cell_type": "code",
   "execution_count": null,
   "id": "e8e74d07",
   "metadata": {},
   "outputs": [],
   "source": [
    "#To set explode and percentages on the pie chart for Q1\n",
    "####plt.pie(sizes, explode=explode, labels=labels, colors=colors,\n",
    "        autopct=\"%1.1f%%\", shadow=True, startangle=140)\n",
    "\n",
    "#To save pie as image in case we want to include it as pic on presentation:\n",
    "    ####plt.savefig(\"../Images/PyPies.png\")\n",
    "####plt.show()"
   ]
  }
 ],
 "metadata": {
  "kernelspec": {
   "display_name": "Python 3 (ipykernel)",
   "language": "python",
   "name": "python3"
  },
  "language_info": {
   "codemirror_mode": {
    "name": "ipython",
    "version": 3
   },
   "file_extension": ".py",
   "mimetype": "text/x-python",
   "name": "python",
   "nbconvert_exporter": "python",
   "pygments_lexer": "ipython3",
   "version": "3.9.12"
  }
 },
 "nbformat": 4,
 "nbformat_minor": 5
}
